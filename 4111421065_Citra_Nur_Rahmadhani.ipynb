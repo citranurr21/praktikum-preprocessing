{
  "nbformat": 4,
  "nbformat_minor": 0,
  "metadata": {
    "colab": {
      "provenance": [],
      "authorship_tag": "ABX9TyPdhu4/85ZSqWSyfsoQUcr0",
      "include_colab_link": true
    },
    "kernelspec": {
      "name": "python3",
      "display_name": "Python 3"
    },
    "language_info": {
      "name": "python"
    }
  },
  "cells": [
    {
      "cell_type": "markdown",
      "metadata": {
        "id": "view-in-github",
        "colab_type": "text"
      },
      "source": [
        "<a href=\"https://colab.research.google.com/github/citranurr21/praktikum-preprocessing/blob/main/4111421065_Citra_Nur_Rahmadhani.ipynb\" target=\"_parent\"><img src=\"https://colab.research.google.com/assets/colab-badge.svg\" alt=\"Open In Colab\"/></a>"
      ]
    },
    {
      "cell_type": "markdown",
      "source": [
        "**1. MEMUAT DATA**"
      ],
      "metadata": {
        "id": "wiyU9jdhG6gX"
      }
    },
    {
      "cell_type": "markdown",
      "source": [
        "IMPORT LIBRARY PANDAS & MEMUAT DATASET DARI FILE CSV KE DALAM DATAFRAME"
      ],
      "metadata": {
        "id": "iSMuzGpXMg55"
      }
    },
    {
      "cell_type": "code",
      "execution_count": 1,
      "metadata": {
        "id": "ojfyylfNG2xH"
      },
      "outputs": [],
      "source": [
        "import pandas as pd\n",
        "import numpy as np\n",
        "#memuat data dari file csv\n",
        "df = pd.read_csv('movie_sample_dataset.csv')"
      ]
    },
    {
      "cell_type": "markdown",
      "source": [
        "**2. MEMERIKSA DATA**"
      ],
      "metadata": {
        "id": "ZF0w2QxQH742"
      }
    },
    {
      "cell_type": "markdown",
      "source": [
        "2.1 MENAMPILKAN BEBERAPA BARIS PERTAMA DARI DATASET UNTUK MEMAHAMI STRUKTUR DATA"
      ],
      "metadata": {
        "id": "tmRJYSIcMra8"
      }
    },
    {
      "cell_type": "code",
      "source": [
        "#menampilkan 5 baris pertama dari dataset\n",
        "df.head()"
      ],
      "metadata": {
        "colab": {
          "base_uri": "https://localhost:8080/",
          "height": 486
        },
        "id": "nXrA0Lm6IGcL",
        "outputId": "3172ed44-b9d9-4213-8190-824bdacdbd4a"
      },
      "execution_count": 2,
      "outputs": [
        {
          "output_type": "execute_result",
          "data": {
            "text/plain": [
              "    color      director_name  duration        gross  \\\n",
              "0   Color    Martin Scorsese       240  116866727.0   \n",
              "1   Color        Shane Black       195  408992272.0   \n",
              "2  color   Quentin Tarantino       187   54116191.0   \n",
              "3   Color   Kenneth Lonergan       186      46495.0   \n",
              "4   Color      Peter Jackson       186  258355354.0   \n",
              "\n",
              "                                 genres                          movie_title  \\\n",
              "0          Biography|Comedy|Crime|Drama              The Wolf of Wall Street   \n",
              "1               Action|Adventure|Sci-Fi                           Iron Man 3   \n",
              "2  Crime|Drama|Mystery|Thriller|Western                    The Hateful Eight   \n",
              "3                                 Drama                             Margaret   \n",
              "4                     Adventure|Fantasy  The Hobbit: The Desolation of Smaug   \n",
              "\n",
              "   title_year language country       budget  imdb_score  \\\n",
              "0        2013  English     USA  100000000.0         8.2   \n",
              "1        2013  English     USA  200000000.0         7.2   \n",
              "2        2015  English     USA   44000000.0         7.9   \n",
              "3        2011  English     usa   14000000.0         6.5   \n",
              "4        2013  English     USA  225000000.0         7.9   \n",
              "\n",
              "                                              actors  movie_facebook_likes  \n",
              "0  Leonardo DiCaprio,Matthew McConaughey,Jon Favreau                138000  \n",
              "1          Robert Downey Jr.,Jon Favreau,Don Cheadle                 95000  \n",
              "2          Craig Stark,Jennifer Jason Leigh,Zoë Bell                114000  \n",
              "3        Matt Damon,Kieran Culkin,John Gallagher Jr.                     0  \n",
              "4              Aidan Turner,Adam Brown,James Nesbitt                 83000  "
            ],
            "text/html": [
              "\n",
              "  <div id=\"df-819ac786-4aa4-4e4b-967f-2ef911df61b7\" class=\"colab-df-container\">\n",
              "    <div>\n",
              "<style scoped>\n",
              "    .dataframe tbody tr th:only-of-type {\n",
              "        vertical-align: middle;\n",
              "    }\n",
              "\n",
              "    .dataframe tbody tr th {\n",
              "        vertical-align: top;\n",
              "    }\n",
              "\n",
              "    .dataframe thead th {\n",
              "        text-align: right;\n",
              "    }\n",
              "</style>\n",
              "<table border=\"1\" class=\"dataframe\">\n",
              "  <thead>\n",
              "    <tr style=\"text-align: right;\">\n",
              "      <th></th>\n",
              "      <th>color</th>\n",
              "      <th>director_name</th>\n",
              "      <th>duration</th>\n",
              "      <th>gross</th>\n",
              "      <th>genres</th>\n",
              "      <th>movie_title</th>\n",
              "      <th>title_year</th>\n",
              "      <th>language</th>\n",
              "      <th>country</th>\n",
              "      <th>budget</th>\n",
              "      <th>imdb_score</th>\n",
              "      <th>actors</th>\n",
              "      <th>movie_facebook_likes</th>\n",
              "    </tr>\n",
              "  </thead>\n",
              "  <tbody>\n",
              "    <tr>\n",
              "      <th>0</th>\n",
              "      <td>Color</td>\n",
              "      <td>Martin Scorsese</td>\n",
              "      <td>240</td>\n",
              "      <td>116866727.0</td>\n",
              "      <td>Biography|Comedy|Crime|Drama</td>\n",
              "      <td>The Wolf of Wall Street</td>\n",
              "      <td>2013</td>\n",
              "      <td>English</td>\n",
              "      <td>USA</td>\n",
              "      <td>100000000.0</td>\n",
              "      <td>8.2</td>\n",
              "      <td>Leonardo DiCaprio,Matthew McConaughey,Jon Favreau</td>\n",
              "      <td>138000</td>\n",
              "    </tr>\n",
              "    <tr>\n",
              "      <th>1</th>\n",
              "      <td>Color</td>\n",
              "      <td>Shane Black</td>\n",
              "      <td>195</td>\n",
              "      <td>408992272.0</td>\n",
              "      <td>Action|Adventure|Sci-Fi</td>\n",
              "      <td>Iron Man 3</td>\n",
              "      <td>2013</td>\n",
              "      <td>English</td>\n",
              "      <td>USA</td>\n",
              "      <td>200000000.0</td>\n",
              "      <td>7.2</td>\n",
              "      <td>Robert Downey Jr.,Jon Favreau,Don Cheadle</td>\n",
              "      <td>95000</td>\n",
              "    </tr>\n",
              "    <tr>\n",
              "      <th>2</th>\n",
              "      <td>color</td>\n",
              "      <td>Quentin Tarantino</td>\n",
              "      <td>187</td>\n",
              "      <td>54116191.0</td>\n",
              "      <td>Crime|Drama|Mystery|Thriller|Western</td>\n",
              "      <td>The Hateful Eight</td>\n",
              "      <td>2015</td>\n",
              "      <td>English</td>\n",
              "      <td>USA</td>\n",
              "      <td>44000000.0</td>\n",
              "      <td>7.9</td>\n",
              "      <td>Craig Stark,Jennifer Jason Leigh,Zoë Bell</td>\n",
              "      <td>114000</td>\n",
              "    </tr>\n",
              "    <tr>\n",
              "      <th>3</th>\n",
              "      <td>Color</td>\n",
              "      <td>Kenneth Lonergan</td>\n",
              "      <td>186</td>\n",
              "      <td>46495.0</td>\n",
              "      <td>Drama</td>\n",
              "      <td>Margaret</td>\n",
              "      <td>2011</td>\n",
              "      <td>English</td>\n",
              "      <td>usa</td>\n",
              "      <td>14000000.0</td>\n",
              "      <td>6.5</td>\n",
              "      <td>Matt Damon,Kieran Culkin,John Gallagher Jr.</td>\n",
              "      <td>0</td>\n",
              "    </tr>\n",
              "    <tr>\n",
              "      <th>4</th>\n",
              "      <td>Color</td>\n",
              "      <td>Peter Jackson</td>\n",
              "      <td>186</td>\n",
              "      <td>258355354.0</td>\n",
              "      <td>Adventure|Fantasy</td>\n",
              "      <td>The Hobbit: The Desolation of Smaug</td>\n",
              "      <td>2013</td>\n",
              "      <td>English</td>\n",
              "      <td>USA</td>\n",
              "      <td>225000000.0</td>\n",
              "      <td>7.9</td>\n",
              "      <td>Aidan Turner,Adam Brown,James Nesbitt</td>\n",
              "      <td>83000</td>\n",
              "    </tr>\n",
              "  </tbody>\n",
              "</table>\n",
              "</div>\n",
              "    <div class=\"colab-df-buttons\">\n",
              "\n",
              "  <div class=\"colab-df-container\">\n",
              "    <button class=\"colab-df-convert\" onclick=\"convertToInteractive('df-819ac786-4aa4-4e4b-967f-2ef911df61b7')\"\n",
              "            title=\"Convert this dataframe to an interactive table.\"\n",
              "            style=\"display:none;\">\n",
              "\n",
              "  <svg xmlns=\"http://www.w3.org/2000/svg\" height=\"24px\" viewBox=\"0 -960 960 960\">\n",
              "    <path d=\"M120-120v-720h720v720H120Zm60-500h600v-160H180v160Zm220 220h160v-160H400v160Zm0 220h160v-160H400v160ZM180-400h160v-160H180v160Zm440 0h160v-160H620v160ZM180-180h160v-160H180v160Zm440 0h160v-160H620v160Z\"/>\n",
              "  </svg>\n",
              "    </button>\n",
              "\n",
              "  <style>\n",
              "    .colab-df-container {\n",
              "      display:flex;\n",
              "      gap: 12px;\n",
              "    }\n",
              "\n",
              "    .colab-df-convert {\n",
              "      background-color: #E8F0FE;\n",
              "      border: none;\n",
              "      border-radius: 50%;\n",
              "      cursor: pointer;\n",
              "      display: none;\n",
              "      fill: #1967D2;\n",
              "      height: 32px;\n",
              "      padding: 0 0 0 0;\n",
              "      width: 32px;\n",
              "    }\n",
              "\n",
              "    .colab-df-convert:hover {\n",
              "      background-color: #E2EBFA;\n",
              "      box-shadow: 0px 1px 2px rgba(60, 64, 67, 0.3), 0px 1px 3px 1px rgba(60, 64, 67, 0.15);\n",
              "      fill: #174EA6;\n",
              "    }\n",
              "\n",
              "    .colab-df-buttons div {\n",
              "      margin-bottom: 4px;\n",
              "    }\n",
              "\n",
              "    [theme=dark] .colab-df-convert {\n",
              "      background-color: #3B4455;\n",
              "      fill: #D2E3FC;\n",
              "    }\n",
              "\n",
              "    [theme=dark] .colab-df-convert:hover {\n",
              "      background-color: #434B5C;\n",
              "      box-shadow: 0px 1px 3px 1px rgba(0, 0, 0, 0.15);\n",
              "      filter: drop-shadow(0px 1px 2px rgba(0, 0, 0, 0.3));\n",
              "      fill: #FFFFFF;\n",
              "    }\n",
              "  </style>\n",
              "\n",
              "    <script>\n",
              "      const buttonEl =\n",
              "        document.querySelector('#df-819ac786-4aa4-4e4b-967f-2ef911df61b7 button.colab-df-convert');\n",
              "      buttonEl.style.display =\n",
              "        google.colab.kernel.accessAllowed ? 'block' : 'none';\n",
              "\n",
              "      async function convertToInteractive(key) {\n",
              "        const element = document.querySelector('#df-819ac786-4aa4-4e4b-967f-2ef911df61b7');\n",
              "        const dataTable =\n",
              "          await google.colab.kernel.invokeFunction('convertToInteractive',\n",
              "                                                    [key], {});\n",
              "        if (!dataTable) return;\n",
              "\n",
              "        const docLinkHtml = 'Like what you see? Visit the ' +\n",
              "          '<a target=\"_blank\" href=https://colab.research.google.com/notebooks/data_table.ipynb>data table notebook</a>'\n",
              "          + ' to learn more about interactive tables.';\n",
              "        element.innerHTML = '';\n",
              "        dataTable['output_type'] = 'display_data';\n",
              "        await google.colab.output.renderOutput(dataTable, element);\n",
              "        const docLink = document.createElement('div');\n",
              "        docLink.innerHTML = docLinkHtml;\n",
              "        element.appendChild(docLink);\n",
              "      }\n",
              "    </script>\n",
              "  </div>\n",
              "\n",
              "\n",
              "<div id=\"df-ecee609b-d4db-457e-b231-cbdeaa9c0ea1\">\n",
              "  <button class=\"colab-df-quickchart\" onclick=\"quickchart('df-ecee609b-d4db-457e-b231-cbdeaa9c0ea1')\"\n",
              "            title=\"Suggest charts\"\n",
              "            style=\"display:none;\">\n",
              "\n",
              "<svg xmlns=\"http://www.w3.org/2000/svg\" height=\"24px\"viewBox=\"0 0 24 24\"\n",
              "     width=\"24px\">\n",
              "    <g>\n",
              "        <path d=\"M19 3H5c-1.1 0-2 .9-2 2v14c0 1.1.9 2 2 2h14c1.1 0 2-.9 2-2V5c0-1.1-.9-2-2-2zM9 17H7v-7h2v7zm4 0h-2V7h2v10zm4 0h-2v-4h2v4z\"/>\n",
              "    </g>\n",
              "</svg>\n",
              "  </button>\n",
              "\n",
              "<style>\n",
              "  .colab-df-quickchart {\n",
              "      --bg-color: #E8F0FE;\n",
              "      --fill-color: #1967D2;\n",
              "      --hover-bg-color: #E2EBFA;\n",
              "      --hover-fill-color: #174EA6;\n",
              "      --disabled-fill-color: #AAA;\n",
              "      --disabled-bg-color: #DDD;\n",
              "  }\n",
              "\n",
              "  [theme=dark] .colab-df-quickchart {\n",
              "      --bg-color: #3B4455;\n",
              "      --fill-color: #D2E3FC;\n",
              "      --hover-bg-color: #434B5C;\n",
              "      --hover-fill-color: #FFFFFF;\n",
              "      --disabled-bg-color: #3B4455;\n",
              "      --disabled-fill-color: #666;\n",
              "  }\n",
              "\n",
              "  .colab-df-quickchart {\n",
              "    background-color: var(--bg-color);\n",
              "    border: none;\n",
              "    border-radius: 50%;\n",
              "    cursor: pointer;\n",
              "    display: none;\n",
              "    fill: var(--fill-color);\n",
              "    height: 32px;\n",
              "    padding: 0;\n",
              "    width: 32px;\n",
              "  }\n",
              "\n",
              "  .colab-df-quickchart:hover {\n",
              "    background-color: var(--hover-bg-color);\n",
              "    box-shadow: 0 1px 2px rgba(60, 64, 67, 0.3), 0 1px 3px 1px rgba(60, 64, 67, 0.15);\n",
              "    fill: var(--button-hover-fill-color);\n",
              "  }\n",
              "\n",
              "  .colab-df-quickchart-complete:disabled,\n",
              "  .colab-df-quickchart-complete:disabled:hover {\n",
              "    background-color: var(--disabled-bg-color);\n",
              "    fill: var(--disabled-fill-color);\n",
              "    box-shadow: none;\n",
              "  }\n",
              "\n",
              "  .colab-df-spinner {\n",
              "    border: 2px solid var(--fill-color);\n",
              "    border-color: transparent;\n",
              "    border-bottom-color: var(--fill-color);\n",
              "    animation:\n",
              "      spin 1s steps(1) infinite;\n",
              "  }\n",
              "\n",
              "  @keyframes spin {\n",
              "    0% {\n",
              "      border-color: transparent;\n",
              "      border-bottom-color: var(--fill-color);\n",
              "      border-left-color: var(--fill-color);\n",
              "    }\n",
              "    20% {\n",
              "      border-color: transparent;\n",
              "      border-left-color: var(--fill-color);\n",
              "      border-top-color: var(--fill-color);\n",
              "    }\n",
              "    30% {\n",
              "      border-color: transparent;\n",
              "      border-left-color: var(--fill-color);\n",
              "      border-top-color: var(--fill-color);\n",
              "      border-right-color: var(--fill-color);\n",
              "    }\n",
              "    40% {\n",
              "      border-color: transparent;\n",
              "      border-right-color: var(--fill-color);\n",
              "      border-top-color: var(--fill-color);\n",
              "    }\n",
              "    60% {\n",
              "      border-color: transparent;\n",
              "      border-right-color: var(--fill-color);\n",
              "    }\n",
              "    80% {\n",
              "      border-color: transparent;\n",
              "      border-right-color: var(--fill-color);\n",
              "      border-bottom-color: var(--fill-color);\n",
              "    }\n",
              "    90% {\n",
              "      border-color: transparent;\n",
              "      border-bottom-color: var(--fill-color);\n",
              "    }\n",
              "  }\n",
              "</style>\n",
              "\n",
              "  <script>\n",
              "    async function quickchart(key) {\n",
              "      const quickchartButtonEl =\n",
              "        document.querySelector('#' + key + ' button');\n",
              "      quickchartButtonEl.disabled = true;  // To prevent multiple clicks.\n",
              "      quickchartButtonEl.classList.add('colab-df-spinner');\n",
              "      try {\n",
              "        const charts = await google.colab.kernel.invokeFunction(\n",
              "            'suggestCharts', [key], {});\n",
              "      } catch (error) {\n",
              "        console.error('Error during call to suggestCharts:', error);\n",
              "      }\n",
              "      quickchartButtonEl.classList.remove('colab-df-spinner');\n",
              "      quickchartButtonEl.classList.add('colab-df-quickchart-complete');\n",
              "    }\n",
              "    (() => {\n",
              "      let quickchartButtonEl =\n",
              "        document.querySelector('#df-ecee609b-d4db-457e-b231-cbdeaa9c0ea1 button');\n",
              "      quickchartButtonEl.style.display =\n",
              "        google.colab.kernel.accessAllowed ? 'block' : 'none';\n",
              "    })();\n",
              "  </script>\n",
              "</div>\n",
              "\n",
              "    </div>\n",
              "  </div>\n"
            ],
            "application/vnd.google.colaboratory.intrinsic+json": {
              "type": "dataframe",
              "variable_name": "df",
              "summary": "{\n  \"name\": \"df\",\n  \"rows\": 99,\n  \"fields\": [\n    {\n      \"column\": \"color\",\n      \"properties\": {\n        \"dtype\": \"category\",\n        \"num_unique_values\": 3,\n        \"samples\": [\n          \"Color\",\n          \"color \",\n          \" Black and White\"\n        ],\n        \"semantic_type\": \"\",\n        \"description\": \"\"\n      }\n    },\n    {\n      \"column\": \"director_name\",\n      \"properties\": {\n        \"dtype\": \"string\",\n        \"num_unique_values\": 63,\n        \"samples\": [\n          \"David Ayer\",\n          \"Tony Gilroy\",\n          \"Martin Scorsese\"\n        ],\n        \"semantic_type\": \"\",\n        \"description\": \"\"\n      }\n    },\n    {\n      \"column\": \"duration\",\n      \"properties\": {\n        \"dtype\": \"number\",\n        \"std\": 72,\n        \"min\": -50,\n        \"max\": 650,\n        \"num_unique_values\": 39,\n        \"samples\": [\n          138,\n          135,\n          183\n        ],\n        \"semantic_type\": \"\",\n        \"description\": \"\"\n      }\n    },\n    {\n      \"column\": \"gross\",\n      \"properties\": {\n        \"dtype\": \"number\",\n        \"std\": 139950256.81859657,\n        \"min\": 41229.0,\n        \"max\": 623279547.0,\n        \"num_unique_values\": 85,\n        \"samples\": [\n          52474616.0,\n          116866727.0,\n          132550960.0\n        ],\n        \"semantic_type\": \"\",\n        \"description\": \"\"\n      }\n    },\n    {\n      \"column\": \"genres\",\n      \"properties\": {\n        \"dtype\": \"string\",\n        \"num_unique_values\": 56,\n        \"samples\": [\n          \"Biography|Comedy|Crime|Drama\",\n          \"Drama|Romance\",\n          \"Drama|Horror|Thriller\"\n        ],\n        \"semantic_type\": \"\",\n        \"description\": \"\"\n      }\n    },\n    {\n      \"column\": \"movie_title\",\n      \"properties\": {\n        \"dtype\": \"string\",\n        \"num_unique_values\": 91,\n        \"samples\": [\n          \"The Help\",\n          \"The Revenant\",\n          \"Avengers: Age of Ultron\"\n        ],\n        \"semantic_type\": \"\",\n        \"description\": \"\"\n      }\n    },\n    {\n      \"column\": \"title_year\",\n      \"properties\": {\n        \"dtype\": \"number\",\n        \"std\": 255,\n        \"min\": 202,\n        \"max\": 2016,\n        \"num_unique_values\": 9,\n        \"samples\": [\n          2016,\n          2015,\n          2014\n        ],\n        \"semantic_type\": \"\",\n        \"description\": \"\"\n      }\n    },\n    {\n      \"column\": \"language\",\n      \"properties\": {\n        \"dtype\": \"category\",\n        \"num_unique_values\": 1,\n        \"samples\": [\n          \"English\"\n        ],\n        \"semantic_type\": \"\",\n        \"description\": \"\"\n      }\n    },\n    {\n      \"column\": \"country\",\n      \"properties\": {\n        \"dtype\": \"category\",\n        \"num_unique_values\": 12,\n        \"samples\": [\n          \"Kyrgyzstan\"\n        ],\n        \"semantic_type\": \"\",\n        \"description\": \"\"\n      }\n    },\n    {\n      \"column\": \"budget\",\n      \"properties\": {\n        \"dtype\": \"number\",\n        \"std\": 77031692.48433195,\n        \"min\": 17350.0,\n        \"max\": 250000000.0,\n        \"num_unique_values\": 56,\n        \"samples\": [\n          100000000.0\n        ],\n        \"semantic_type\": \"\",\n        \"description\": \"\"\n      }\n    },\n    {\n      \"column\": \"imdb_score\",\n      \"properties\": {\n        \"dtype\": \"number\",\n        \"std\": 1.9255135824433918,\n        \"min\": -7.5,\n        \"max\": 8.8,\n        \"num_unique_values\": 35,\n        \"samples\": [\n          3.0\n        ],\n        \"semantic_type\": \"\",\n        \"description\": \"\"\n      }\n    },\n    {\n      \"column\": \"actors\",\n      \"properties\": {\n        \"dtype\": \"string\",\n        \"num_unique_values\": 88,\n        \"samples\": [\n          \"Liam Neeson,Charlize Theron,Seth MacFarlane\"\n        ],\n        \"semantic_type\": \"\",\n        \"description\": \"\"\n      }\n    },\n    {\n      \"column\": \"movie_facebook_likes\",\n      \"properties\": {\n        \"dtype\": \"number\",\n        \"std\": 58108,\n        \"min\": 0,\n        \"max\": 349000,\n        \"num_unique_values\": 67,\n        \"samples\": [\n          72000\n        ],\n        \"semantic_type\": \"\",\n        \"description\": \"\"\n      }\n    }\n  ]\n}"
            }
          },
          "metadata": {},
          "execution_count": 2
        }
      ]
    },
    {
      "cell_type": "markdown",
      "source": [
        "2.2 MEMERIKSA INFORMASI UMUM TENTANG DATASET, TERMASUK TIPE DATA DAN NILAI YANG HILANG"
      ],
      "metadata": {
        "id": "w7gdSaNkIcFX"
      }
    },
    {
      "cell_type": "code",
      "source": [
        "#memeriksa informasi umum tentang dataset\n",
        "df.info()"
      ],
      "metadata": {
        "colab": {
          "base_uri": "https://localhost:8080/"
        },
        "id": "BI1yqSjpNU90",
        "outputId": "c901fea1-41aa-400d-ebb9-99b8ab57337e"
      },
      "execution_count": 3,
      "outputs": [
        {
          "output_type": "stream",
          "name": "stdout",
          "text": [
            "<class 'pandas.core.frame.DataFrame'>\n",
            "RangeIndex: 99 entries, 0 to 98\n",
            "Data columns (total 13 columns):\n",
            " #   Column                Non-Null Count  Dtype  \n",
            "---  ------                --------------  -----  \n",
            " 0   color                 88 non-null     object \n",
            " 1   director_name         88 non-null     object \n",
            " 2   duration              99 non-null     int64  \n",
            " 3   gross                 91 non-null     float64\n",
            " 4   genres                98 non-null     object \n",
            " 5   movie_title           99 non-null     object \n",
            " 6   title_year            99 non-null     int64  \n",
            " 7   language              99 non-null     object \n",
            " 8   country               99 non-null     object \n",
            " 9   budget                95 non-null     float64\n",
            " 10  imdb_score            99 non-null     float64\n",
            " 11  actors                99 non-null     object \n",
            " 12  movie_facebook_likes  99 non-null     int64  \n",
            "dtypes: float64(3), int64(3), object(7)\n",
            "memory usage: 10.2+ KB\n"
          ]
        }
      ]
    },
    {
      "cell_type": "code",
      "source": [
        "#memeriksa tipe data dan nilai yang hilang\n",
        "print(df.isnull().sum())"
      ],
      "metadata": {
        "colab": {
          "base_uri": "https://localhost:8080/"
        },
        "id": "szY3YMgIiR4Y",
        "outputId": "23622298-c749-446c-94fe-a4f27a0c4704"
      },
      "execution_count": 4,
      "outputs": [
        {
          "output_type": "stream",
          "name": "stdout",
          "text": [
            "color                   11\n",
            "director_name           11\n",
            "duration                 0\n",
            "gross                    8\n",
            "genres                   1\n",
            "movie_title              0\n",
            "title_year               0\n",
            "language                 0\n",
            "country                  0\n",
            "budget                   4\n",
            "imdb_score               0\n",
            "actors                   0\n",
            "movie_facebook_likes     0\n",
            "dtype: int64\n"
          ]
        }
      ]
    },
    {
      "cell_type": "markdown",
      "source": [
        "**3. MEMBERSIHKAN DATA**"
      ],
      "metadata": {
        "id": "mBFB2IuDNgJ9"
      }
    },
    {
      "cell_type": "markdown",
      "source": [
        "3.1 MENGHAPUS BARIS YANG MEMILIKI NILAI NaN DI KOLOM PENTING SEPERTI GROSS DAN BUDGET"
      ],
      "metadata": {
        "id": "8JcqTPZyNnUg"
      }
    },
    {
      "cell_type": "code",
      "source": [
        "#menghapus baris yang memiliki nilai NaN\n",
        "df.dropna(subset=['gross', 'budget'], inplace=True)"
      ],
      "metadata": {
        "id": "n21c8xFuOGmJ"
      },
      "execution_count": 5,
      "outputs": []
    },
    {
      "cell_type": "markdown",
      "source": [
        "3.2 MENGATASI NILAI YANG TIDAK KONSISTEN ATAU KESALAHAN PENULISAN DI KOLOM, SEPERTI PERBEDAAN ANTARA \"Color\" DAN \"color\""
      ],
      "metadata": {
        "id": "XNMIhnY-Nwos"
      }
    },
    {
      "cell_type": "code",
      "source": [
        "#mengatasi nilai yang tidak konsisten atau kesalahan pada penulisan\n",
        "df['color'] = df['color'].str.lower()\n",
        "df['color'].unique()"
      ],
      "metadata": {
        "colab": {
          "base_uri": "https://localhost:8080/"
        },
        "id": "cU7teYBSOgA9",
        "outputId": "79a7f785-7d64-481b-d3f0-fe5b4ccf1304"
      },
      "execution_count": 6,
      "outputs": [
        {
          "output_type": "execute_result",
          "data": {
            "text/plain": [
              "array(['color', 'color ', nan, ' black and white'], dtype=object)"
            ]
          },
          "metadata": {},
          "execution_count": 6
        }
      ]
    },
    {
      "cell_type": "markdown",
      "source": [
        "3.3 MENGUBAH ATAU MENGHAPUS NILAI-NILAI YANG TIDAK STANDAR, SEPERTI NILAI NEGATIF ATAU \"N/A\""
      ],
      "metadata": {
        "id": "4_OiJKwvN56C"
      }
    },
    {
      "cell_type": "code",
      "source": [
        "#mencari nilai negatif\n",
        "for col in df.select_dtypes(include=[\"int\", \"float\"]).columns:\n",
        "    print(f\"\\nKolom {col}:\")\n",
        "    print(df[df[col] < 0])"
      ],
      "metadata": {
        "colab": {
          "base_uri": "https://localhost:8080/"
        },
        "id": "CsbHuZ99i4r6",
        "outputId": "7bb851f8-0953-4738-8ece-1f1fce306f75"
      },
      "execution_count": 7,
      "outputs": [
        {
          "output_type": "stream",
          "name": "stdout",
          "text": [
            "\n",
            "Kolom duration:\n",
            "   color  director_name  duration        gross             genres  \\\n",
            "6  color  Peter Jackson       -50  303001229.0  Adventure|Fantasy   \n",
            "\n",
            "                         movie_title  title_year language country  \\\n",
            "6  The Hobbit: An Unexpected Journey        2012  English     USA   \n",
            "\n",
            "        budget  imdb_score                                 actors  \\\n",
            "6  180000000.0         7.9  Aidan Turner,Adam Brown,James Nesbitt   \n",
            "\n",
            "   movie_facebook_likes  \n",
            "6                166000  \n",
            "\n",
            "Kolom gross:\n",
            "Empty DataFrame\n",
            "Columns: [color, director_name, duration, gross, genres, movie_title, title_year, language, country, budget, imdb_score, actors, movie_facebook_likes]\n",
            "Index: []\n",
            "\n",
            "Kolom title_year:\n",
            "Empty DataFrame\n",
            "Columns: [color, director_name, duration, gross, genres, movie_title, title_year, language, country, budget, imdb_score, actors, movie_facebook_likes]\n",
            "Index: []\n",
            "\n",
            "Kolom budget:\n",
            "Empty DataFrame\n",
            "Columns: [color, director_name, duration, gross, genres, movie_title, title_year, language, country, budget, imdb_score, actors, movie_facebook_likes]\n",
            "Index: []\n",
            "\n",
            "Kolom imdb_score:\n",
            "    color        director_name  duration        gross  \\\n",
            "10    NaN           Tom Tykwer       172   27098580.0   \n",
            "85  color  Angelina Jolie Pitt       137  115603980.0   \n",
            "\n",
            "                       genres  movie_title  title_year language  country  \\\n",
            "10               Drama|Sci-Fi  Cloud Atlas        2012  English  Germany   \n",
            "85  Biography|Drama|Sport|War     Unbroken        2014  English      USA   \n",
            "\n",
            "         budget  imdb_score                                     actors  \\\n",
            "10  102000000.0        -7.5       Tom Hanks,Jim Sturgess,Jim Broadbent   \n",
            "85   65000000.0        -1.2  Finn Wittrock,Jack O'Connell,Alex Russell   \n",
            "\n",
            "    movie_facebook_likes  \n",
            "10                124000  \n",
            "85                 35000  \n",
            "\n",
            "Kolom movie_facebook_likes:\n",
            "Empty DataFrame\n",
            "Columns: [color, director_name, duration, gross, genres, movie_title, title_year, language, country, budget, imdb_score, actors, movie_facebook_likes]\n",
            "Index: []\n"
          ]
        }
      ]
    },
    {
      "cell_type": "code",
      "source": [
        "#menghilangkan nilai negatif\n",
        "df['duration'] = df['duration'].apply(lambda x: abs(x) if x < 0 else x)\n",
        "df['imdb_score'] = df['imdb_score'].apply(lambda x: abs(x) if x < 0 else x)"
      ],
      "metadata": {
        "id": "jPTU34R_j92Y"
      },
      "execution_count": 8,
      "outputs": []
    },
    {
      "cell_type": "code",
      "source": [
        "#mencari nilai N/A\n",
        "for col in df.select_dtypes(include=[\"int\", \"float\"]).columns:\n",
        "    print(f\"\\nKolom {col}:\")\n",
        "    print(df[df[col].isna()])"
      ],
      "metadata": {
        "colab": {
          "base_uri": "https://localhost:8080/"
        },
        "id": "BN32cMMajMDF",
        "outputId": "ce08d01c-5f62-4215-94b5-f5b898208ba8"
      },
      "execution_count": 9,
      "outputs": [
        {
          "output_type": "stream",
          "name": "stdout",
          "text": [
            "\n",
            "Kolom duration:\n",
            "Empty DataFrame\n",
            "Columns: [color, director_name, duration, gross, genres, movie_title, title_year, language, country, budget, imdb_score, actors, movie_facebook_likes]\n",
            "Index: []\n",
            "\n",
            "Kolom gross:\n",
            "Empty DataFrame\n",
            "Columns: [color, director_name, duration, gross, genres, movie_title, title_year, language, country, budget, imdb_score, actors, movie_facebook_likes]\n",
            "Index: []\n",
            "\n",
            "Kolom title_year:\n",
            "Empty DataFrame\n",
            "Columns: [color, director_name, duration, gross, genres, movie_title, title_year, language, country, budget, imdb_score, actors, movie_facebook_likes]\n",
            "Index: []\n",
            "\n",
            "Kolom budget:\n",
            "Empty DataFrame\n",
            "Columns: [color, director_name, duration, gross, genres, movie_title, title_year, language, country, budget, imdb_score, actors, movie_facebook_likes]\n",
            "Index: []\n",
            "\n",
            "Kolom imdb_score:\n",
            "Empty DataFrame\n",
            "Columns: [color, director_name, duration, gross, genres, movie_title, title_year, language, country, budget, imdb_score, actors, movie_facebook_likes]\n",
            "Index: []\n",
            "\n",
            "Kolom movie_facebook_likes:\n",
            "Empty DataFrame\n",
            "Columns: [color, director_name, duration, gross, genres, movie_title, title_year, language, country, budget, imdb_score, actors, movie_facebook_likes]\n",
            "Index: []\n"
          ]
        }
      ]
    },
    {
      "cell_type": "code",
      "source": [
        "#menghilangkan baris dengan N/A\n",
        "df.dropna(inplace=True)"
      ],
      "metadata": {
        "id": "DGz1kJrbPNM9"
      },
      "execution_count": 10,
      "outputs": []
    },
    {
      "cell_type": "code",
      "source": [
        "#mengkoreksi data type tiap kolom\n",
        "df.dtypes"
      ],
      "metadata": {
        "colab": {
          "base_uri": "https://localhost:8080/",
          "height": 491
        },
        "id": "HZloIS6EPisU",
        "outputId": "0751be34-949f-4970-ddbc-819478c55796"
      },
      "execution_count": 11,
      "outputs": [
        {
          "output_type": "execute_result",
          "data": {
            "text/plain": [
              "color                    object\n",
              "director_name            object\n",
              "duration                  int64\n",
              "gross                   float64\n",
              "genres                   object\n",
              "movie_title              object\n",
              "title_year                int64\n",
              "language                 object\n",
              "country                  object\n",
              "budget                  float64\n",
              "imdb_score              float64\n",
              "actors                   object\n",
              "movie_facebook_likes      int64\n",
              "dtype: object"
            ],
            "text/html": [
              "<div>\n",
              "<style scoped>\n",
              "    .dataframe tbody tr th:only-of-type {\n",
              "        vertical-align: middle;\n",
              "    }\n",
              "\n",
              "    .dataframe tbody tr th {\n",
              "        vertical-align: top;\n",
              "    }\n",
              "\n",
              "    .dataframe thead th {\n",
              "        text-align: right;\n",
              "    }\n",
              "</style>\n",
              "<table border=\"1\" class=\"dataframe\">\n",
              "  <thead>\n",
              "    <tr style=\"text-align: right;\">\n",
              "      <th></th>\n",
              "      <th>0</th>\n",
              "    </tr>\n",
              "  </thead>\n",
              "  <tbody>\n",
              "    <tr>\n",
              "      <th>color</th>\n",
              "      <td>object</td>\n",
              "    </tr>\n",
              "    <tr>\n",
              "      <th>director_name</th>\n",
              "      <td>object</td>\n",
              "    </tr>\n",
              "    <tr>\n",
              "      <th>duration</th>\n",
              "      <td>int64</td>\n",
              "    </tr>\n",
              "    <tr>\n",
              "      <th>gross</th>\n",
              "      <td>float64</td>\n",
              "    </tr>\n",
              "    <tr>\n",
              "      <th>genres</th>\n",
              "      <td>object</td>\n",
              "    </tr>\n",
              "    <tr>\n",
              "      <th>movie_title</th>\n",
              "      <td>object</td>\n",
              "    </tr>\n",
              "    <tr>\n",
              "      <th>title_year</th>\n",
              "      <td>int64</td>\n",
              "    </tr>\n",
              "    <tr>\n",
              "      <th>language</th>\n",
              "      <td>object</td>\n",
              "    </tr>\n",
              "    <tr>\n",
              "      <th>country</th>\n",
              "      <td>object</td>\n",
              "    </tr>\n",
              "    <tr>\n",
              "      <th>budget</th>\n",
              "      <td>float64</td>\n",
              "    </tr>\n",
              "    <tr>\n",
              "      <th>imdb_score</th>\n",
              "      <td>float64</td>\n",
              "    </tr>\n",
              "    <tr>\n",
              "      <th>actors</th>\n",
              "      <td>object</td>\n",
              "    </tr>\n",
              "    <tr>\n",
              "      <th>movie_facebook_likes</th>\n",
              "      <td>int64</td>\n",
              "    </tr>\n",
              "  </tbody>\n",
              "</table>\n",
              "</div><br><label><b>dtype:</b> object</label>"
            ]
          },
          "metadata": {},
          "execution_count": 11
        }
      ]
    },
    {
      "cell_type": "markdown",
      "source": [
        "**4. TRANSFORMASI DATA**"
      ],
      "metadata": {
        "id": "n2m_jt8AQuY1"
      }
    },
    {
      "cell_type": "markdown",
      "source": [
        "4.1 MENGUBAH TIPE KOLOM DATA MENJADI TIPE DATA YANG SESUAI (KONVERSI BUDGET DAN GROSS ---> NUMERIK)"
      ],
      "metadata": {
        "id": "S4wtK87dUNf1"
      }
    },
    {
      "cell_type": "code",
      "source": [
        "#menghapus karakter non-numerik dan mengubah tipe data menjadi integer\n",
        "df['budget'] = df['budget'].astype(str).str.replace('[^0-9]', '', regex=True).astype(int)\n",
        "df['gross'] = df['gross'].astype(str).str.replace('[^0-9]', '', regex=True).astype(int)"
      ],
      "metadata": {
        "id": "letzp-V2lg2O"
      },
      "execution_count": 12,
      "outputs": []
    },
    {
      "cell_type": "code",
      "source": [
        "#mengkoreksi kembali data type untuk gross dan budget apakah sudah berubah atau belum\n",
        "print(df['budget'].dtype)\n",
        "print(df['gross'].dtype)"
      ],
      "metadata": {
        "colab": {
          "base_uri": "https://localhost:8080/"
        },
        "id": "F9-myiIElnvY",
        "outputId": "b39c5a96-1a98-4a46-cb39-54daf109c9a7"
      },
      "execution_count": 13,
      "outputs": [
        {
          "output_type": "stream",
          "name": "stdout",
          "text": [
            "int64\n",
            "int64\n"
          ]
        }
      ]
    },
    {
      "cell_type": "code",
      "source": [
        "#mengkoreksi ulang data type setiap kolom\n",
        "df.dtypes"
      ],
      "metadata": {
        "colab": {
          "base_uri": "https://localhost:8080/",
          "height": 491
        },
        "id": "rez-jzR6lt6N",
        "outputId": "80a3aca6-9311-4db5-b626-652fb1376cd2"
      },
      "execution_count": 14,
      "outputs": [
        {
          "output_type": "execute_result",
          "data": {
            "text/plain": [
              "color                    object\n",
              "director_name            object\n",
              "duration                  int64\n",
              "gross                     int64\n",
              "genres                   object\n",
              "movie_title              object\n",
              "title_year                int64\n",
              "language                 object\n",
              "country                  object\n",
              "budget                    int64\n",
              "imdb_score              float64\n",
              "actors                   object\n",
              "movie_facebook_likes      int64\n",
              "dtype: object"
            ],
            "text/html": [
              "<div>\n",
              "<style scoped>\n",
              "    .dataframe tbody tr th:only-of-type {\n",
              "        vertical-align: middle;\n",
              "    }\n",
              "\n",
              "    .dataframe tbody tr th {\n",
              "        vertical-align: top;\n",
              "    }\n",
              "\n",
              "    .dataframe thead th {\n",
              "        text-align: right;\n",
              "    }\n",
              "</style>\n",
              "<table border=\"1\" class=\"dataframe\">\n",
              "  <thead>\n",
              "    <tr style=\"text-align: right;\">\n",
              "      <th></th>\n",
              "      <th>0</th>\n",
              "    </tr>\n",
              "  </thead>\n",
              "  <tbody>\n",
              "    <tr>\n",
              "      <th>color</th>\n",
              "      <td>object</td>\n",
              "    </tr>\n",
              "    <tr>\n",
              "      <th>director_name</th>\n",
              "      <td>object</td>\n",
              "    </tr>\n",
              "    <tr>\n",
              "      <th>duration</th>\n",
              "      <td>int64</td>\n",
              "    </tr>\n",
              "    <tr>\n",
              "      <th>gross</th>\n",
              "      <td>int64</td>\n",
              "    </tr>\n",
              "    <tr>\n",
              "      <th>genres</th>\n",
              "      <td>object</td>\n",
              "    </tr>\n",
              "    <tr>\n",
              "      <th>movie_title</th>\n",
              "      <td>object</td>\n",
              "    </tr>\n",
              "    <tr>\n",
              "      <th>title_year</th>\n",
              "      <td>int64</td>\n",
              "    </tr>\n",
              "    <tr>\n",
              "      <th>language</th>\n",
              "      <td>object</td>\n",
              "    </tr>\n",
              "    <tr>\n",
              "      <th>country</th>\n",
              "      <td>object</td>\n",
              "    </tr>\n",
              "    <tr>\n",
              "      <th>budget</th>\n",
              "      <td>int64</td>\n",
              "    </tr>\n",
              "    <tr>\n",
              "      <th>imdb_score</th>\n",
              "      <td>float64</td>\n",
              "    </tr>\n",
              "    <tr>\n",
              "      <th>actors</th>\n",
              "      <td>object</td>\n",
              "    </tr>\n",
              "    <tr>\n",
              "      <th>movie_facebook_likes</th>\n",
              "      <td>int64</td>\n",
              "    </tr>\n",
              "  </tbody>\n",
              "</table>\n",
              "</div><br><label><b>dtype:</b> object</label>"
            ]
          },
          "metadata": {},
          "execution_count": 14
        }
      ]
    },
    {
      "cell_type": "markdown",
      "source": [
        "4.2 MEMISAHKAN GENRE YANG BERGABUNG DALAM SATU KOLOM MENJADI BEBERAPA KOLOM TERPISAH"
      ],
      "metadata": {
        "id": "ghLluAJ9UXwI"
      }
    },
    {
      "cell_type": "code",
      "source": [
        "df['genres'] = df['genres'].str.split('|')\n",
        "df = df.explode('genres')\n",
        "df.head()"
      ],
      "metadata": {
        "colab": {
          "base_uri": "https://localhost:8080/",
          "height": 486
        },
        "id": "nQCTCMnvViea",
        "outputId": "bd218f11-45eb-42a5-c5ff-faba69476448"
      },
      "execution_count": 15,
      "outputs": [
        {
          "output_type": "execute_result",
          "data": {
            "text/plain": [
              "   color    director_name  duration       gross     genres  \\\n",
              "0  color  Martin Scorsese       240  1168667270  Biography   \n",
              "0  color  Martin Scorsese       240  1168667270     Comedy   \n",
              "0  color  Martin Scorsese       240  1168667270      Crime   \n",
              "0  color  Martin Scorsese       240  1168667270      Drama   \n",
              "1  color      Shane Black       195  4089922720     Action   \n",
              "\n",
              "               movie_title  title_year language country      budget  \\\n",
              "0  The Wolf of Wall Street        2013  English     USA  1000000000   \n",
              "0  The Wolf of Wall Street        2013  English     USA  1000000000   \n",
              "0  The Wolf of Wall Street        2013  English     USA  1000000000   \n",
              "0  The Wolf of Wall Street        2013  English     USA  1000000000   \n",
              "1               Iron Man 3        2013  English     USA  2000000000   \n",
              "\n",
              "   imdb_score                                             actors  \\\n",
              "0         8.2  Leonardo DiCaprio,Matthew McConaughey,Jon Favreau   \n",
              "0         8.2  Leonardo DiCaprio,Matthew McConaughey,Jon Favreau   \n",
              "0         8.2  Leonardo DiCaprio,Matthew McConaughey,Jon Favreau   \n",
              "0         8.2  Leonardo DiCaprio,Matthew McConaughey,Jon Favreau   \n",
              "1         7.2          Robert Downey Jr.,Jon Favreau,Don Cheadle   \n",
              "\n",
              "   movie_facebook_likes  \n",
              "0                138000  \n",
              "0                138000  \n",
              "0                138000  \n",
              "0                138000  \n",
              "1                 95000  "
            ],
            "text/html": [
              "\n",
              "  <div id=\"df-f76c95d4-477a-421a-a68b-d7bd32c9d974\" class=\"colab-df-container\">\n",
              "    <div>\n",
              "<style scoped>\n",
              "    .dataframe tbody tr th:only-of-type {\n",
              "        vertical-align: middle;\n",
              "    }\n",
              "\n",
              "    .dataframe tbody tr th {\n",
              "        vertical-align: top;\n",
              "    }\n",
              "\n",
              "    .dataframe thead th {\n",
              "        text-align: right;\n",
              "    }\n",
              "</style>\n",
              "<table border=\"1\" class=\"dataframe\">\n",
              "  <thead>\n",
              "    <tr style=\"text-align: right;\">\n",
              "      <th></th>\n",
              "      <th>color</th>\n",
              "      <th>director_name</th>\n",
              "      <th>duration</th>\n",
              "      <th>gross</th>\n",
              "      <th>genres</th>\n",
              "      <th>movie_title</th>\n",
              "      <th>title_year</th>\n",
              "      <th>language</th>\n",
              "      <th>country</th>\n",
              "      <th>budget</th>\n",
              "      <th>imdb_score</th>\n",
              "      <th>actors</th>\n",
              "      <th>movie_facebook_likes</th>\n",
              "    </tr>\n",
              "  </thead>\n",
              "  <tbody>\n",
              "    <tr>\n",
              "      <th>0</th>\n",
              "      <td>color</td>\n",
              "      <td>Martin Scorsese</td>\n",
              "      <td>240</td>\n",
              "      <td>1168667270</td>\n",
              "      <td>Biography</td>\n",
              "      <td>The Wolf of Wall Street</td>\n",
              "      <td>2013</td>\n",
              "      <td>English</td>\n",
              "      <td>USA</td>\n",
              "      <td>1000000000</td>\n",
              "      <td>8.2</td>\n",
              "      <td>Leonardo DiCaprio,Matthew McConaughey,Jon Favreau</td>\n",
              "      <td>138000</td>\n",
              "    </tr>\n",
              "    <tr>\n",
              "      <th>0</th>\n",
              "      <td>color</td>\n",
              "      <td>Martin Scorsese</td>\n",
              "      <td>240</td>\n",
              "      <td>1168667270</td>\n",
              "      <td>Comedy</td>\n",
              "      <td>The Wolf of Wall Street</td>\n",
              "      <td>2013</td>\n",
              "      <td>English</td>\n",
              "      <td>USA</td>\n",
              "      <td>1000000000</td>\n",
              "      <td>8.2</td>\n",
              "      <td>Leonardo DiCaprio,Matthew McConaughey,Jon Favreau</td>\n",
              "      <td>138000</td>\n",
              "    </tr>\n",
              "    <tr>\n",
              "      <th>0</th>\n",
              "      <td>color</td>\n",
              "      <td>Martin Scorsese</td>\n",
              "      <td>240</td>\n",
              "      <td>1168667270</td>\n",
              "      <td>Crime</td>\n",
              "      <td>The Wolf of Wall Street</td>\n",
              "      <td>2013</td>\n",
              "      <td>English</td>\n",
              "      <td>USA</td>\n",
              "      <td>1000000000</td>\n",
              "      <td>8.2</td>\n",
              "      <td>Leonardo DiCaprio,Matthew McConaughey,Jon Favreau</td>\n",
              "      <td>138000</td>\n",
              "    </tr>\n",
              "    <tr>\n",
              "      <th>0</th>\n",
              "      <td>color</td>\n",
              "      <td>Martin Scorsese</td>\n",
              "      <td>240</td>\n",
              "      <td>1168667270</td>\n",
              "      <td>Drama</td>\n",
              "      <td>The Wolf of Wall Street</td>\n",
              "      <td>2013</td>\n",
              "      <td>English</td>\n",
              "      <td>USA</td>\n",
              "      <td>1000000000</td>\n",
              "      <td>8.2</td>\n",
              "      <td>Leonardo DiCaprio,Matthew McConaughey,Jon Favreau</td>\n",
              "      <td>138000</td>\n",
              "    </tr>\n",
              "    <tr>\n",
              "      <th>1</th>\n",
              "      <td>color</td>\n",
              "      <td>Shane Black</td>\n",
              "      <td>195</td>\n",
              "      <td>4089922720</td>\n",
              "      <td>Action</td>\n",
              "      <td>Iron Man 3</td>\n",
              "      <td>2013</td>\n",
              "      <td>English</td>\n",
              "      <td>USA</td>\n",
              "      <td>2000000000</td>\n",
              "      <td>7.2</td>\n",
              "      <td>Robert Downey Jr.,Jon Favreau,Don Cheadle</td>\n",
              "      <td>95000</td>\n",
              "    </tr>\n",
              "  </tbody>\n",
              "</table>\n",
              "</div>\n",
              "    <div class=\"colab-df-buttons\">\n",
              "\n",
              "  <div class=\"colab-df-container\">\n",
              "    <button class=\"colab-df-convert\" onclick=\"convertToInteractive('df-f76c95d4-477a-421a-a68b-d7bd32c9d974')\"\n",
              "            title=\"Convert this dataframe to an interactive table.\"\n",
              "            style=\"display:none;\">\n",
              "\n",
              "  <svg xmlns=\"http://www.w3.org/2000/svg\" height=\"24px\" viewBox=\"0 -960 960 960\">\n",
              "    <path d=\"M120-120v-720h720v720H120Zm60-500h600v-160H180v160Zm220 220h160v-160H400v160Zm0 220h160v-160H400v160ZM180-400h160v-160H180v160Zm440 0h160v-160H620v160ZM180-180h160v-160H180v160Zm440 0h160v-160H620v160Z\"/>\n",
              "  </svg>\n",
              "    </button>\n",
              "\n",
              "  <style>\n",
              "    .colab-df-container {\n",
              "      display:flex;\n",
              "      gap: 12px;\n",
              "    }\n",
              "\n",
              "    .colab-df-convert {\n",
              "      background-color: #E8F0FE;\n",
              "      border: none;\n",
              "      border-radius: 50%;\n",
              "      cursor: pointer;\n",
              "      display: none;\n",
              "      fill: #1967D2;\n",
              "      height: 32px;\n",
              "      padding: 0 0 0 0;\n",
              "      width: 32px;\n",
              "    }\n",
              "\n",
              "    .colab-df-convert:hover {\n",
              "      background-color: #E2EBFA;\n",
              "      box-shadow: 0px 1px 2px rgba(60, 64, 67, 0.3), 0px 1px 3px 1px rgba(60, 64, 67, 0.15);\n",
              "      fill: #174EA6;\n",
              "    }\n",
              "\n",
              "    .colab-df-buttons div {\n",
              "      margin-bottom: 4px;\n",
              "    }\n",
              "\n",
              "    [theme=dark] .colab-df-convert {\n",
              "      background-color: #3B4455;\n",
              "      fill: #D2E3FC;\n",
              "    }\n",
              "\n",
              "    [theme=dark] .colab-df-convert:hover {\n",
              "      background-color: #434B5C;\n",
              "      box-shadow: 0px 1px 3px 1px rgba(0, 0, 0, 0.15);\n",
              "      filter: drop-shadow(0px 1px 2px rgba(0, 0, 0, 0.3));\n",
              "      fill: #FFFFFF;\n",
              "    }\n",
              "  </style>\n",
              "\n",
              "    <script>\n",
              "      const buttonEl =\n",
              "        document.querySelector('#df-f76c95d4-477a-421a-a68b-d7bd32c9d974 button.colab-df-convert');\n",
              "      buttonEl.style.display =\n",
              "        google.colab.kernel.accessAllowed ? 'block' : 'none';\n",
              "\n",
              "      async function convertToInteractive(key) {\n",
              "        const element = document.querySelector('#df-f76c95d4-477a-421a-a68b-d7bd32c9d974');\n",
              "        const dataTable =\n",
              "          await google.colab.kernel.invokeFunction('convertToInteractive',\n",
              "                                                    [key], {});\n",
              "        if (!dataTable) return;\n",
              "\n",
              "        const docLinkHtml = 'Like what you see? Visit the ' +\n",
              "          '<a target=\"_blank\" href=https://colab.research.google.com/notebooks/data_table.ipynb>data table notebook</a>'\n",
              "          + ' to learn more about interactive tables.';\n",
              "        element.innerHTML = '';\n",
              "        dataTable['output_type'] = 'display_data';\n",
              "        await google.colab.output.renderOutput(dataTable, element);\n",
              "        const docLink = document.createElement('div');\n",
              "        docLink.innerHTML = docLinkHtml;\n",
              "        element.appendChild(docLink);\n",
              "      }\n",
              "    </script>\n",
              "  </div>\n",
              "\n",
              "\n",
              "<div id=\"df-25e6b7eb-47ac-46c8-8c09-6de7946e80a0\">\n",
              "  <button class=\"colab-df-quickchart\" onclick=\"quickchart('df-25e6b7eb-47ac-46c8-8c09-6de7946e80a0')\"\n",
              "            title=\"Suggest charts\"\n",
              "            style=\"display:none;\">\n",
              "\n",
              "<svg xmlns=\"http://www.w3.org/2000/svg\" height=\"24px\"viewBox=\"0 0 24 24\"\n",
              "     width=\"24px\">\n",
              "    <g>\n",
              "        <path d=\"M19 3H5c-1.1 0-2 .9-2 2v14c0 1.1.9 2 2 2h14c1.1 0 2-.9 2-2V5c0-1.1-.9-2-2-2zM9 17H7v-7h2v7zm4 0h-2V7h2v10zm4 0h-2v-4h2v4z\"/>\n",
              "    </g>\n",
              "</svg>\n",
              "  </button>\n",
              "\n",
              "<style>\n",
              "  .colab-df-quickchart {\n",
              "      --bg-color: #E8F0FE;\n",
              "      --fill-color: #1967D2;\n",
              "      --hover-bg-color: #E2EBFA;\n",
              "      --hover-fill-color: #174EA6;\n",
              "      --disabled-fill-color: #AAA;\n",
              "      --disabled-bg-color: #DDD;\n",
              "  }\n",
              "\n",
              "  [theme=dark] .colab-df-quickchart {\n",
              "      --bg-color: #3B4455;\n",
              "      --fill-color: #D2E3FC;\n",
              "      --hover-bg-color: #434B5C;\n",
              "      --hover-fill-color: #FFFFFF;\n",
              "      --disabled-bg-color: #3B4455;\n",
              "      --disabled-fill-color: #666;\n",
              "  }\n",
              "\n",
              "  .colab-df-quickchart {\n",
              "    background-color: var(--bg-color);\n",
              "    border: none;\n",
              "    border-radius: 50%;\n",
              "    cursor: pointer;\n",
              "    display: none;\n",
              "    fill: var(--fill-color);\n",
              "    height: 32px;\n",
              "    padding: 0;\n",
              "    width: 32px;\n",
              "  }\n",
              "\n",
              "  .colab-df-quickchart:hover {\n",
              "    background-color: var(--hover-bg-color);\n",
              "    box-shadow: 0 1px 2px rgba(60, 64, 67, 0.3), 0 1px 3px 1px rgba(60, 64, 67, 0.15);\n",
              "    fill: var(--button-hover-fill-color);\n",
              "  }\n",
              "\n",
              "  .colab-df-quickchart-complete:disabled,\n",
              "  .colab-df-quickchart-complete:disabled:hover {\n",
              "    background-color: var(--disabled-bg-color);\n",
              "    fill: var(--disabled-fill-color);\n",
              "    box-shadow: none;\n",
              "  }\n",
              "\n",
              "  .colab-df-spinner {\n",
              "    border: 2px solid var(--fill-color);\n",
              "    border-color: transparent;\n",
              "    border-bottom-color: var(--fill-color);\n",
              "    animation:\n",
              "      spin 1s steps(1) infinite;\n",
              "  }\n",
              "\n",
              "  @keyframes spin {\n",
              "    0% {\n",
              "      border-color: transparent;\n",
              "      border-bottom-color: var(--fill-color);\n",
              "      border-left-color: var(--fill-color);\n",
              "    }\n",
              "    20% {\n",
              "      border-color: transparent;\n",
              "      border-left-color: var(--fill-color);\n",
              "      border-top-color: var(--fill-color);\n",
              "    }\n",
              "    30% {\n",
              "      border-color: transparent;\n",
              "      border-left-color: var(--fill-color);\n",
              "      border-top-color: var(--fill-color);\n",
              "      border-right-color: var(--fill-color);\n",
              "    }\n",
              "    40% {\n",
              "      border-color: transparent;\n",
              "      border-right-color: var(--fill-color);\n",
              "      border-top-color: var(--fill-color);\n",
              "    }\n",
              "    60% {\n",
              "      border-color: transparent;\n",
              "      border-right-color: var(--fill-color);\n",
              "    }\n",
              "    80% {\n",
              "      border-color: transparent;\n",
              "      border-right-color: var(--fill-color);\n",
              "      border-bottom-color: var(--fill-color);\n",
              "    }\n",
              "    90% {\n",
              "      border-color: transparent;\n",
              "      border-bottom-color: var(--fill-color);\n",
              "    }\n",
              "  }\n",
              "</style>\n",
              "\n",
              "  <script>\n",
              "    async function quickchart(key) {\n",
              "      const quickchartButtonEl =\n",
              "        document.querySelector('#' + key + ' button');\n",
              "      quickchartButtonEl.disabled = true;  // To prevent multiple clicks.\n",
              "      quickchartButtonEl.classList.add('colab-df-spinner');\n",
              "      try {\n",
              "        const charts = await google.colab.kernel.invokeFunction(\n",
              "            'suggestCharts', [key], {});\n",
              "      } catch (error) {\n",
              "        console.error('Error during call to suggestCharts:', error);\n",
              "      }\n",
              "      quickchartButtonEl.classList.remove('colab-df-spinner');\n",
              "      quickchartButtonEl.classList.add('colab-df-quickchart-complete');\n",
              "    }\n",
              "    (() => {\n",
              "      let quickchartButtonEl =\n",
              "        document.querySelector('#df-25e6b7eb-47ac-46c8-8c09-6de7946e80a0 button');\n",
              "      quickchartButtonEl.style.display =\n",
              "        google.colab.kernel.accessAllowed ? 'block' : 'none';\n",
              "    })();\n",
              "  </script>\n",
              "</div>\n",
              "\n",
              "    </div>\n",
              "  </div>\n"
            ],
            "application/vnd.google.colaboratory.intrinsic+json": {
              "type": "dataframe",
              "variable_name": "df",
              "summary": "{\n  \"name\": \"df\",\n  \"rows\": 211,\n  \"fields\": [\n    {\n      \"column\": \"color\",\n      \"properties\": {\n        \"dtype\": \"category\",\n        \"num_unique_values\": 3,\n        \"samples\": [\n          \"color\",\n          \"color \",\n          \" black and white\"\n        ],\n        \"semantic_type\": \"\",\n        \"description\": \"\"\n      }\n    },\n    {\n      \"column\": \"director_name\",\n      \"properties\": {\n        \"dtype\": \"category\",\n        \"num_unique_values\": 47,\n        \"samples\": [\n          \"Zack Snyder\",\n          \"Anthony Russo\",\n          \"Adam McKay\"\n        ],\n        \"semantic_type\": \"\",\n        \"description\": \"\"\n      }\n    },\n    {\n      \"column\": \"duration\",\n      \"properties\": {\n        \"dtype\": \"number\",\n        \"std\": 78,\n        \"min\": 5,\n        \"max\": 650,\n        \"num_unique_values\": 34,\n        \"samples\": [\n          153,\n          149,\n          139\n        ],\n        \"semantic_type\": \"\",\n        \"description\": \"\"\n      }\n    },\n    {\n      \"column\": \"gross\",\n      \"properties\": {\n        \"dtype\": \"number\",\n        \"std\": 1368959567,\n        \"min\": 412290,\n        \"max\": 6232795470,\n        \"num_unique_values\": 63,\n        \"samples\": [\n          857071160,\n          385093420,\n          1168667270\n        ],\n        \"semantic_type\": \"\",\n        \"description\": \"\"\n      }\n    },\n    {\n      \"column\": \"genres\",\n      \"properties\": {\n        \"dtype\": \"category\",\n        \"num_unique_values\": 17,\n        \"samples\": [\n          \"Biography\",\n          \"Comedy\",\n          \"Adventure\"\n        ],\n        \"semantic_type\": \"\",\n        \"description\": \"\"\n      }\n    },\n    {\n      \"column\": \"movie_title\",\n      \"properties\": {\n        \"dtype\": \"category\",\n        \"num_unique_values\": 63,\n        \"samples\": [\n          \"Fury\",\n          \"Rock of Ages\",\n          \"The Wolf of Wall Street\"\n        ],\n        \"semantic_type\": \"\",\n        \"description\": \"\"\n      }\n    },\n    {\n      \"column\": \"title_year\",\n      \"properties\": {\n        \"dtype\": \"number\",\n        \"std\": 214,\n        \"min\": 205,\n        \"max\": 2016,\n        \"num_unique_values\": 8,\n        \"samples\": [\n          2015,\n          2010,\n          2013\n        ],\n        \"semantic_type\": \"\",\n        \"description\": \"\"\n      }\n    },\n    {\n      \"column\": \"language\",\n      \"properties\": {\n        \"dtype\": \"category\",\n        \"num_unique_values\": 1,\n        \"samples\": [\n          \"English\"\n        ],\n        \"semantic_type\": \"\",\n        \"description\": \"\"\n      }\n    },\n    {\n      \"column\": \"country\",\n      \"properties\": {\n        \"dtype\": \"category\",\n        \"num_unique_values\": 8,\n        \"samples\": [\n          \"usa\"\n        ],\n        \"semantic_type\": \"\",\n        \"description\": \"\"\n      }\n    },\n    {\n      \"column\": \"budget\",\n      \"properties\": {\n        \"dtype\": \"number\",\n        \"std\": 756774452,\n        \"min\": 140000000,\n        \"max\": 2500000000,\n        \"num_unique_values\": 43,\n        \"samples\": [\n          800000000\n        ],\n        \"semantic_type\": \"\",\n        \"description\": \"\"\n      }\n    },\n    {\n      \"column\": \"imdb_score\",\n      \"properties\": {\n        \"dtype\": \"number\",\n        \"std\": 1.174379316706494,\n        \"min\": 1.2,\n        \"max\": 8.8,\n        \"num_unique_values\": 28,\n        \"samples\": [\n          7.5\n        ],\n        \"semantic_type\": \"\",\n        \"description\": \"\"\n      }\n    },\n    {\n      \"column\": \"actors\",\n      \"properties\": {\n        \"dtype\": \"category\",\n        \"num_unique_values\": 60,\n        \"samples\": [\n          \"Leonardo DiCaprio,Matthew McConaughey,Jon Favreau\"\n        ],\n        \"semantic_type\": \"\",\n        \"description\": \"\"\n      }\n    },\n    {\n      \"column\": \"movie_facebook_likes\",\n      \"properties\": {\n        \"dtype\": \"number\",\n        \"std\": 55963,\n        \"min\": 0,\n        \"max\": 349000,\n        \"num_unique_values\": 50,\n        \"samples\": [\n          144000\n        ],\n        \"semantic_type\": \"\",\n        \"description\": \"\"\n      }\n    }\n  ]\n}"
            }
          },
          "metadata": {},
          "execution_count": 15
        }
      ]
    },
    {
      "cell_type": "markdown",
      "source": [
        "4.3 NORMALISASI TEKS UNTUK MEMASTIKAN KONSISTENSI (UBAH TEKS ---> HURUF KECIL)"
      ],
      "metadata": {
        "id": "fFTtz0p2UdvC"
      }
    },
    {
      "cell_type": "code",
      "source": [
        "#memilih list kolom yang akan dilakukan normalisasi\n",
        "kolom = ['color', 'genres', 'movie_title', 'language', 'country', 'actors']"
      ],
      "metadata": {
        "id": "_9KjXl2Ul2Kk"
      },
      "execution_count": 16,
      "outputs": []
    },
    {
      "cell_type": "code",
      "source": [
        "#melakukan looping untuk mengubah setiap kolom yang sudah di normalisasi menjadi huruf kapital\n",
        "for col in kolom:\n",
        "    df[col] = df[col].str.upper()"
      ],
      "metadata": {
        "id": "iM0_Ika3mBdz"
      },
      "execution_count": 17,
      "outputs": []
    },
    {
      "cell_type": "markdown",
      "source": [
        "**5. PENYIMPANAN DATA**"
      ],
      "metadata": {
        "id": "aKhxvvqBW_Ps"
      }
    },
    {
      "cell_type": "markdown",
      "source": [
        "5.1 SIMPAN DATA YANG TELAH DI PROSES KE DALAM FILE CSV BARU DENGAN NAMA movie_dataset_cleaned.csv"
      ],
      "metadata": {
        "id": "fipBIENEXEvY"
      }
    },
    {
      "cell_type": "code",
      "source": [
        "df.to_csv('movie_dataset_cleaned.csv', index=False)"
      ],
      "metadata": {
        "id": "7-vTMTtiXM22"
      },
      "execution_count": 18,
      "outputs": []
    }
  ]
}